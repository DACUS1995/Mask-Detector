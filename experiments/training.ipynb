{
 "cells": [
  {
   "cell_type": "code",
   "execution_count": 1,
   "metadata": {
    "tags": []
   },
   "outputs": [
    {
     "output_type": "stream",
     "name": "stdout",
     "text": "Using tensorflow version: 2.2.0\nUsing eager execution: True\n"
    }
   ],
   "source": [
    "from IPython.core.interactiveshell import InteractiveShell\n",
    "InteractiveShell.ast_node_interactivity = \"all\"\n",
    "\n",
    "import tensorflow as tf\n",
    "print(\"Using tensorflow version: \" + tf.__version__)\n",
    "print(\"Using eager execution: \" + str(tf.executing_eagerly())) "
   ]
  },
  {
   "cell_type": "code",
   "execution_count": 2,
   "metadata": {},
   "outputs": [],
   "source": [
    "import pathlib\n",
    "from PIL import Image\n",
    "import os\n",
    "import numpy as np\n",
    "import pandas as pd\n",
    "import json\n",
    "import matplotlib.pyplot as plt\n",
    "import time"
   ]
  },
  {
   "cell_type": "code",
   "execution_count": 3,
   "metadata": {
    "tags": []
   },
   "outputs": [],
   "source": [
    "# Clone the tensorflow models repository if it doesn't already exist\n",
    "if \"models\" in pathlib.Path.cwd().parts:\n",
    "    while \"models\" in pathlib.Path.cwd().parts:\n",
    "        os.chdir('..')\n",
    "elif not pathlib.Path('models').exists():\n",
    "    !git clone --depth 1 https://github.com/tensorflow/models"
   ]
  },
  {
   "cell_type": "code",
   "execution_count": 4,
   "metadata": {
    "tags": []
   },
   "outputs": [],
   "source": [
    "from object_detection.utils import label_map_util\n",
    "from object_detection.utils import config_util\n",
    "from object_detection.utils import visualization_utils as viz_utils\n",
    "from object_detection.builders import model_builder"
   ]
  },
  {
   "cell_type": "code",
   "execution_count": 5,
   "metadata": {
    "tags": []
   },
   "outputs": [
    {
     "output_type": "stream",
     "name": "stdout",
     "text": "Total number of samples: 680\nDataset training size: 544 | Dataset validation size: 136\n"
    }
   ],
   "source": [
    "DATASET_PATH = \"../dataset\"\n",
    "\n",
    "masked_faces_paths = list(pathlib.Path(DATASET_PATH + \"/masked_faces\").glob('*'))\n",
    "normal_faces_paths = list(pathlib.Path(DATASET_PATH + \"/normal_faces\").glob('*'))\n",
    "\n",
    "length = len(masked_faces_paths)\n",
    "print(f\"Total number of samples: {length}\")\n",
    "\n",
    "split_ratio = 0.8\n",
    "training_size = int(split_ratio * length)\n",
    "validation_size = length - training_size\n",
    "print(f\"Dataset training size: {training_size} | Dataset validation size: {validation_size}\")\n",
    "\n",
    "training_paths = masked_faces_paths[:training_size] + normal_faces_paths[:training_size]\n",
    "validation_paths = masked_faces_paths[training_size:] + normal_faces_paths[training_size:]\n",
    "\n",
    "targets = None\n",
    "with open(DATASET_PATH + \"/targets.json\") as json_file:\n",
    "\ttargets = json.load(json_file)"
   ]
  },
  {
   "cell_type": "code",
   "execution_count": 6,
   "metadata": {},
   "outputs": [
    {
     "output_type": "execute_result",
     "data": {
      "text/plain": "&#39;101.jpg&#39;"
     },
     "metadata": {},
     "execution_count": 6
    },
    {
     "output_type": "execute_result",
     "data": {
      "text/plain": "{&#39;bbox&#39;: [[194, 246, 656, 708]]}"
     },
     "metadata": {},
     "execution_count": 6
    },
    {
     "output_type": "execute_result",
     "data": {
      "text/plain": "(1, 4)"
     },
     "metadata": {},
     "execution_count": 6
    },
    {
     "output_type": "execute_result",
     "data": {
      "text/plain": "&lt;matplotlib.image.AxesImage at 0x1f49128d988&gt;"
     },
     "metadata": {},
     "execution_count": 6
    }
   ],
   "source": [
    "image_path = training_paths[2]\n",
    "image_name = str(image_path).split(os.sep)[3]\n",
    "str(image_path).split(os.sep)[3]\n",
    "targets[image_name]\n",
    "image = Image.open(image_path).convert(\"RGB\")\n",
    "np.array(targets[image_name][\"bbox\"]).shape\n",
    "plt.imshow(image)\n"
   ]
  },
  {
   "cell_type": "code",
   "execution_count": 7,
   "metadata": {},
   "outputs": [],
   "source": [
    "def get_dataset():\n",
    "    num_classes = 2\n",
    "    label_id_offset = 1\n",
    "\n",
    "    train_image_tensors = []\n",
    "    gt_classes_one_hot_tensors = []\n",
    "    gt_box_tensors = []\n",
    "\n",
    "    for idx, image_path in enumerate(training_paths):\n",
    "        masked = True if idx < training_size else False\n",
    "        train_image_np = np.array(Image.open(image_path).convert(\"RGB\"))\n",
    "        image_name = str(image_path).split(os.sep)[3]\n",
    "        gt_box_np = np.array(targets[image_name][\"bbox\"])\n",
    "\n",
    "        train_image_tensors.append(\n",
    "            tf.expand_dims(\n",
    "                tf.convert_to_tensor(\n",
    "                    train_image_np, dtype=tf.float32\n",
    "                ), axis=0)\n",
    "            )\n",
    "\n",
    "        gt_box_tensors.append(tf.convert_to_tensor(gt_box_np, dtype=tf.float32))\n",
    "        zero_indexed_groundtruth_classes = tf.convert_to_tensor(\n",
    "            np.zeros(shape=[gt_box_np.shape[0]], dtype=np.int32) if masked else np.ones(shape=[gt_box_np.shape[0]], dtype=np.int32)\n",
    "        )\n",
    "        \n",
    "        gt_classes_one_hot_tensors.append(\n",
    "            tf.one_hot(\n",
    "                zero_indexed_groundtruth_classes, num_classes\n",
    "            )\n",
    "        )\n",
    "    print('Done prepping data.')\n",
    "    return train_image_tensors, gt_classes_one_hot_tensors, gt_box_tensors"
   ]
  },
  {
   "cell_type": "code",
   "execution_count": 36,
   "metadata": {},
   "outputs": [],
   "source": [
    "def get_model():\n",
    "    print('Building model and restoring weights for fine-tuning...', flush=True)\n",
    "    num_classes = 2\n",
    "    # pipeline_config = 'models/research/object_detection/configs/tf2/ssd_resnet50_v1_fpn_640x640_coco17_tpu-8.config'\n",
    "    # pipeline_config = 'models/research/object_detection/configs/tf2/ssd_mobilenet_v2_320x320_coco17_tpu-8.config'\n",
    "    pipeline_config = 'models/research/object_detection/configs/tf2/ssd_mobilenet_v2_fpnlite_320x320_coco17_tpu-8.config'\n",
    "\n",
    "    # pipeline_config = 'models/research/object_detection/test_data/pipeline.config'\n",
    "    # checkpoint_path = 'models/research/object_detection/test_data/checkpoint_mobilenet/ckpt-0'\n",
    "    # checkpoint_path = 'models/research/object_detection/test_data/checkpoint_resnet/ckpt-0'\n",
    "    # checkpoint_path = 'models/research/object_detection/test_data/checkpoint_mobilenet_fpn/ckpt-0'\n",
    "\n",
    "    print(tf.train.list_variables(tf.train.latest_checkpoint(\"models/research/object_detection/test_data/checkpoint_mobilenet_fpn\")))\n",
    "\n",
    "    configs = config_util.get_configs_from_pipeline_file(pipeline_config)\n",
    "    model_config = configs['model']\n",
    "    model_config.ssd.num_classes = num_classes\n",
    "    model_config.ssd.freeze_batchnorm = True\n",
    "    detection_model = model_builder.build(model_config=model_config, is_training=True)\n",
    "\n",
    "    fake_box_predictor = tf.compat.v2.train.Checkpoint(\n",
    "        _base_tower_layers_for_heads=detection_model._box_predictor._base_tower_layers_for_heads,\n",
    "        # _prediction_heads=detection_model._box_predictor._prediction_heads\n",
    "    )\n",
    "\n",
    "    fake_model = tf.compat.v2.train.Checkpoint(\n",
    "        _feature_extractor=detection_model._feature_extractor,\n",
    "        _box_predictor=fake_box_predictor\n",
    "    )\n",
    "    ckpt = tf.compat.v2.train.Checkpoint(model=fake_model)\n",
    "    ckpt.restore(checkpoint_path).expect_partial()\n",
    "\n",
    "    image, shapes = detection_model.preprocess(tf.zeros([1, 320, 320, 3]))\n",
    "    print(shapes)\n",
    "    print(image)\n",
    "    prediction_dict = detection_model.predict(image, shapes)\n",
    "    _ = detection_model.postprocess(prediction_dict, shapes)\n",
    "    print('Weights restored!')\n",
    "\n",
    "    return detection_model"
   ]
  },
  {
   "cell_type": "code",
   "execution_count": 37,
   "metadata": {},
   "outputs": [],
   "source": [
    "def train_step(\n",
    "    image_tensors,\n",
    "    groundtruth_boxes_list,\n",
    "    groundtruth_classes_list,\n",
    "    vars_to_fine_tune\n",
    "):\n",
    "    shapes = tf.constant(batch_size * [[640, 640, 3]], dtype=tf.int32)\n",
    "    model.provide_groundtruth(\n",
    "        groundtruth_boxes_list=groundtruth_boxes_list,\n",
    "        groundtruth_classes_list=groundtruth_classes_list\n",
    "    )\n",
    "\n",
    "    with tf.GradientTape() as tape:\n",
    "        preprocessed_images = tf.concat(\n",
    "            [detection_model.preprocess(image_tensor)[0]\n",
    "            for image_tensor in image_tensors], axis=0\n",
    "        \n",
    "        )\n",
    "        prediction_dict = model.predict(preprocessed_images, shapes)\n",
    "        losses_dict = model.loss(prediction_dict, shapes)\n",
    "        total_loss = losses_dict['Loss/localization_loss'] + losses_dict['Loss/classification_loss']\n",
    "        gradients = tape.gradient(total_loss, vars_to_fine_tune)\n",
    "        optimizer.apply_gradients(zip(gradients, vars_to_fine_tune))\n",
    "    \n",
    "    return total_loss"
   ]
  },
  {
   "cell_type": "code",
   "execution_count": 38,
   "metadata": {},
   "outputs": [],
   "source": [
    "def train_loop(config):\n",
    "    epochs = config[\"epochs\"]\n",
    "    learning_rate = config[\"learning_rate\"]\n",
    "    clip_gradients_value = config[\"clip_gradients_value\"] if \"clip_gradients_value\" in config else None\n",
    "    evaluation_interval = config[\"evaluation_interval\"] if \"evaluation_interval\" in  config else 1\n",
    "    metrics_interval = config[\"metrics_interval\"] if \"metrics_interval\" in config else 5\n",
    "\n",
    "    model = get_model()\n",
    "    train_image_tensors, gt_classes_one_hot_tensors, gt_box_tensors = get_dataset()\n",
    "\n",
    "    trainable_variables = detection_model.trainable_variables\n",
    "    to_fine_tune = []\n",
    "    prefixes_to_train = [\n",
    "        'WeightSharedConvolutionalBoxPredictor/WeightSharedConvolutionalBoxHead',\n",
    "        'WeightSharedConvolutionalBoxPredictor/WeightSharedConvolutionalClassHead'\n",
    "    ]\n",
    "    \n",
    "    for var in trainable_variables:\n",
    "        if any([var.name.startswith(prefix) for prefix in prefixes_to_train]):\n",
    "            to_fine_tune.append(var)\n",
    "\n",
    "    optimizer = tf.keras.optimizers.SGD(learning_rate=learning_rate, momentum=0.9)\n",
    "\n",
    "    train_losses = []\n",
    "    epoch_loss_avg = tf.keras.metrics.Mean()\n",
    "\n",
    "    print(\"Start training!\")\n",
    "    for epoch in range(epochs):\n",
    "        epoch_start_time = time.time()\n",
    "\n",
    "        for idx in range(100):\n",
    "            all_keys = list(range(len(training_paths)))\n",
    "            random.shuffle(all_keys)\n",
    "            example_keys = all_keys[:4]\n",
    "\n",
    "            gt_boxes_list = [gt_box_tensors[key] for key in example_keys]\n",
    "            gt_classes_list = [gt_classes_one_hot_tensors[key] for key in example_keys]\n",
    "            image_tensors = [train_image_tensors[key] for key in example_keys]\n",
    "\n",
    "            total_loss = train_step(image_tensors, gt_boxes_list, gt_classes_list, to_fine_tune)\n",
    "\n",
    "        # for x, y in training_dataset:\n",
    "        #     total_loss = train_step(\n",
    "        #         to_fine_tune\n",
    "        #     )\n",
    "\n",
    "            epoch_loss_avg(total_loss)\n",
    "\n",
    "        train_loss_results.append(epoch_loss_avg.result())\n",
    "        epoch_time_elapsed = time.time() - epoch_start_time\n",
    "\n",
    "        if epoch % metrics_interval == 0:\n",
    "            print(\n",
    "                \"Epoch {:03d} | Loss: {:.3f} | Time: {:.0f}m {:.0f}s\"\n",
    "                .format(epoch, epoch_loss_avg.result(), time_elapsed // 60, time_elapsed % 60)\n",
    "            )\n",
    "\n",
    "        if epoch % evaluation_interval == 0:\n",
    "            evaluate_model(model, validation_dataset)\n",
    "\n",
    "        epoch_loss_avg.reset_states()\n",
    "    print(\"Training finished\")\n",
    "\n",
    "    return model"
   ]
  },
  {
   "cell_type": "code",
   "execution_count": 39,
   "metadata": {
    "tags": []
   },
   "outputs": [
    {
     "output_type": "stream",
     "name": "stdout",
     "text": "Building model and restoring weights for fine-tuning...\n[(&#39;_CHECKPOINTABLE_OBJECT_GRAPH&#39;, []), (&#39;model/_box_predictor/_prediction_heads/box_encodings/0/_box_encoder_layers/0/bias/.ATTRIBUTES/VARIABLE_VALUE&#39;, [12]), (&#39;model/_box_predictor/_prediction_heads/box_encodings/0/_box_encoder_layers/0/kernel/.ATTRIBUTES/VARIABLE_VALUE&#39;, [1, 1, 576, 12]), (&#39;model/_box_predictor/_prediction_heads/box_encodings/1/_box_encoder_layers/0/bias/.ATTRIBUTES/VARIABLE_VALUE&#39;, [24]), (&#39;model/_box_predictor/_prediction_heads/box_encodings/1/_box_encoder_layers/0/kernel/.ATTRIBUTES/VARIABLE_VALUE&#39;, [1, 1, 1280, 24]), (&#39;model/_box_predictor/_prediction_heads/box_encodings/2/_box_encoder_layers/0/bias/.ATTRIBUTES/VARIABLE_VALUE&#39;, [24]), (&#39;model/_box_predictor/_prediction_heads/box_encodings/2/_box_encoder_layers/0/kernel/.ATTRIBUTES/VARIABLE_VALUE&#39;, [1, 1, 512, 24]), (&#39;model/_box_predictor/_prediction_heads/box_encodings/3/_box_encoder_layers/0/bias/.ATTRIBUTES/VARIABLE_VALUE&#39;, [24]), (&#39;model/_box_predictor/_prediction_heads/box_encodings/3/_box_encoder_layers/0/kernel/.ATTRIBUTES/VARIABLE_VALUE&#39;, [1, 1, 256, 24]), (&#39;model/_box_predictor/_prediction_heads/box_encodings/4/_box_encoder_layers/0/bias/.ATTRIBUTES/VARIABLE_VALUE&#39;, [24]), (&#39;model/_box_predictor/_prediction_heads/box_encodings/4/_box_encoder_layers/0/kernel/.ATTRIBUTES/VARIABLE_VALUE&#39;, [1, 1, 256, 24]), (&#39;model/_box_predictor/_prediction_heads/box_encodings/5/_box_encoder_layers/0/bias/.ATTRIBUTES/VARIABLE_VALUE&#39;, [24]), (&#39;model/_box_predictor/_prediction_heads/box_encodings/5/_box_encoder_layers/0/kernel/.ATTRIBUTES/VARIABLE_VALUE&#39;, [1, 1, 128, 24]), (&#39;model/_box_predictor/_prediction_heads/class_predictions_with_background/0/_class_predictor_layers/0/bias/.ATTRIBUTES/VARIABLE_VALUE&#39;, [273]), (&#39;model/_box_predictor/_prediction_heads/class_predictions_with_background/0/_class_predictor_layers/0/kernel/.ATTRIBUTES/VARIABLE_VALUE&#39;, [1, 1, 576, 273]), (&#39;model/_box_predictor/_prediction_heads/class_predictions_with_background/1/_class_predictor_layers/0/bias/.ATTRIBUTES/VARIABLE_VALUE&#39;, [546]), (&#39;model/_box_predictor/_prediction_heads/class_predictions_with_background/1/_class_predictor_layers/0/kernel/.ATTRIBUTES/VARIABLE_VALUE&#39;, [1, 1, 1280, 546]), (&#39;model/_box_predictor/_prediction_heads/class_predictions_with_background/2/_class_predictor_layers/0/bias/.ATTRIBUTES/VARIABLE_VALUE&#39;, [546]), (&#39;model/_box_predictor/_prediction_heads/class_predictions_with_background/2/_class_predictor_layers/0/kernel/.ATTRIBUTES/VARIABLE_VALUE&#39;, [1, 1, 512, 546]), (&#39;model/_box_predictor/_prediction_heads/class_predictions_with_background/3/_class_predictor_layers/0/bias/.ATTRIBUTES/VARIABLE_VALUE&#39;, [546]), (&#39;model/_box_predictor/_prediction_heads/class_predictions_with_background/3/_class_predictor_layers/0/kernel/.ATTRIBUTES/VARIABLE_VALUE&#39;, [1, 1, 256, 546]), (&#39;model/_box_predictor/_prediction_heads/class_predictions_with_background/4/_class_predictor_layers/0/bias/.ATTRIBUTES/VARIABLE_VALUE&#39;, [546]), (&#39;model/_box_predictor/_prediction_heads/class_predictions_with_background/4/_class_predictor_layers/0/kernel/.ATTRIBUTES/VARIABLE_VALUE&#39;, [1, 1, 256, 546]), (&#39;model/_box_predictor/_prediction_heads/class_predictions_with_background/5/_class_predictor_layers/0/bias/.ATTRIBUTES/VARIABLE_VALUE&#39;, [546]), (&#39;model/_box_predictor/_prediction_heads/class_predictions_with_background/5/_class_predictor_layers/0/kernel/.ATTRIBUTES/VARIABLE_VALUE&#39;, [1, 1, 128, 546]), (&#39;model/_feature_extractor/classification_backbone/layer_with_weights-0/kernel/.ATTRIBUTES/VARIABLE_VALUE&#39;, [3, 3, 3, 32]), (&#39;model/_feature_extractor/classification_backbone/layer_with_weights-1/beta/.ATTRIBUTES/VARIABLE_VALUE&#39;, [32]), (&#39;model/_feature_extractor/classification_backbone/layer_with_weights-1/gamma/.ATTRIBUTES/VARIABLE_VALUE&#39;, [32]), (&#39;model/_feature_extractor/classification_backbone/layer_with_weights-1/moving_mean/.ATTRIBUTES/VARIABLE_VALUE&#39;, [32]), (&#39;model/_feature_extractor/classification_backbone/layer_with_weights-1/moving_variance/.ATTRIBUTES/VARIABLE_VALUE&#39;, [32]), (&#39;model/_feature_extractor/classification_backbone/layer_with_weights-10/kernel/.ATTRIBUTES/VARIABLE_VALUE&#39;, [1, 1, 96, 24]), (&#39;model/_feature_extractor/classification_backbone/layer_with_weights-100/kernel/.ATTRIBUTES/VARIABLE_VALUE&#39;, [1, 1, 960, 320]), (&#39;model/_feature_extractor/classification_backbone/layer_with_weights-101/beta/.ATTRIBUTES/VARIABLE_VALUE&#39;, [320]), (&#39;model/_feature_extractor/classification_backbone/layer_with_weights-101/gamma/.ATTRIBUTES/VARIABLE_VALUE&#39;, [320]), (&#39;model/_feature_extractor/classification_backbone/layer_with_weights-101/moving_mean/.ATTRIBUTES/VARIABLE_VALUE&#39;, [320]), (&#39;model/_feature_extractor/classification_backbone/layer_with_weights-101/moving_variance/.ATTRIBUTES/VARIABLE_VALUE&#39;, [320]), (&#39;model/_feature_extractor/classification_backbone/layer_with_weights-102/kernel/.ATTRIBUTES/VARIABLE_VALUE&#39;, [1, 1, 320, 1280]), (&#39;model/_feature_extractor/classification_backbone/layer_with_weights-103/beta/.ATTRIBUTES/VARIABLE_VALUE&#39;, [1280]), (&#39;model/_feature_extractor/classification_backbone/layer_with_weights-103/gamma/.ATTRIBUTES/VARIABLE_VALUE&#39;, [1280]), (&#39;model/_feature_extractor/classification_backbone/layer_with_weights-103/moving_mean/.ATTRIBUTES/VARIABLE_VALUE&#39;, [1280]), (&#39;model/_feature_extractor/classification_backbone/layer_with_weights-103/moving_variance/.ATTRIBUTES/VARIABLE_VALUE&#39;, [1280]), (&#39;model/_feature_extractor/classification_backbone/layer_with_weights-11/beta/.ATTRIBUTES/VARIABLE_VALUE&#39;, [24]), (&#39;model/_feature_extractor/classification_backbone/layer_with_weights-11/gamma/.ATTRIBUTES/VARIABLE_VALUE&#39;, [24]), (&#39;model/_feature_extractor/classification_backbone/layer_with_weights-11/moving_mean/.ATTRIBUTES/VARIABLE_VALUE&#39;, [24]), (&#39;model/_feature_extractor/classification_backbone/layer_with_weights-11/moving_variance/.ATTRIBUTES/VARIABLE_VALUE&#39;, [24]), (&#39;model/_feature_extractor/classification_backbone/layer_with_weights-12/kernel/.ATTRIBUTES/VARIABLE_VALUE&#39;, [1, 1, 24, 144]), (&#39;model/_feature_extractor/classification_backbone/layer_with_weights-13/beta/.ATTRIBUTES/VARIABLE_VALUE&#39;, [144]), (&#39;model/_feature_extractor/classification_backbone/layer_with_weights-13/gamma/.ATTRIBUTES/VARIABLE_VALUE&#39;, [144]), (&#39;model/_feature_extractor/classification_backbone/layer_with_weights-13/moving_mean/.ATTRIBUTES/VARIABLE_VALUE&#39;, [144]), (&#39;model/_feature_extractor/classification_backbone/layer_with_weights-13/moving_variance/.ATTRIBUTES/VARIABLE_VALUE&#39;, [144]), (&#39;model/_feature_extractor/classification_backbone/layer_with_weights-14/depthwise_kernel/.ATTRIBUTES/VARIABLE_VALUE&#39;, [3, 3, 144, 1]), (&#39;model/_feature_extractor/classification_backbone/layer_with_weights-15/beta/.ATTRIBUTES/VARIABLE_VALUE&#39;, [144]), (&#39;model/_feature_extractor/classification_backbone/layer_with_weights-15/gamma/.ATTRIBUTES/VARIABLE_VALUE&#39;, [144]), (&#39;model/_feature_extractor/classification_backbone/layer_with_weights-15/moving_mean/.ATTRIBUTES/VARIABLE_VALUE&#39;, [144]), (&#39;model/_feature_extractor/classification_backbone/layer_with_weights-15/moving_variance/.ATTRIBUTES/VARIABLE_VALUE&#39;, [144]), (&#39;model/_feature_extractor/classification_backbone/layer_with_weights-16/kernel/.ATTRIBUTES/VARIABLE_VALUE&#39;, [1, 1, 144, 24]), (&#39;model/_feature_extractor/classification_backbone/layer_with_weights-17/beta/.ATTRIBUTES/VARIABLE_VALUE&#39;, [24]), (&#39;model/_feature_extractor/classification_backbone/layer_with_weights-17/gamma/.ATTRIBUTES/VARIABLE_VALUE&#39;, [24]), (&#39;model/_feature_extractor/classification_backbone/layer_with_weights-17/moving_mean/.ATTRIBUTES/VARIABLE_VALUE&#39;, [24]), (&#39;model/_feature_extractor/classification_backbone/layer_with_weights-17/moving_variance/.ATTRIBUTES/VARIABLE_VALUE&#39;, [24]), (&#39;model/_feature_extractor/classification_backbone/layer_with_weights-18/kernel/.ATTRIBUTES/VARIABLE_VALUE&#39;, [1, 1, 24, 144]), (&#39;model/_feature_extractor/classification_backbone/layer_with_weights-19/beta/.ATTRIBUTES/VARIABLE_VALUE&#39;, [144]), (&#39;model/_feature_extractor/classification_backbone/layer_with_weights-19/gamma/.ATTRIBUTES/VARIABLE_VALUE&#39;, [144]), (&#39;model/_feature_extractor/classification_backbone/layer_with_weights-19/moving_mean/.ATTRIBUTES/VARIABLE_VALUE&#39;, [144]), (&#39;model/_feature_extractor/classification_backbone/layer_with_weights-19/moving_variance/.ATTRIBUTES/VARIABLE_VALUE&#39;, [144]), (&#39;model/_feature_extractor/classification_backbone/layer_with_weights-2/depthwise_kernel/.ATTRIBUTES/VARIABLE_VALUE&#39;, [3, 3, 32, 1]), (&#39;model/_feature_extractor/classification_backbone/layer_with_weights-20/depthwise_kernel/.ATTRIBUTES/VARIABLE_VALUE&#39;, [3, 3, 144, 1]), (&#39;model/_feature_extractor/classification_backbone/layer_with_weights-21/beta/.ATTRIBUTES/VARIABLE_VALUE&#39;, [144]), (&#39;model/_feature_extractor/classification_backbone/layer_with_weights-21/gamma/.ATTRIBUTES/VARIABLE_VALUE&#39;, [144]), (&#39;model/_feature_extractor/classification_backbone/layer_with_weights-21/moving_mean/.ATTRIBUTES/VARIABLE_VALUE&#39;, [144]), (&#39;model/_feature_extractor/classification_backbone/layer_with_weights-21/moving_variance/.ATTRIBUTES/VARIABLE_VALUE&#39;, [144]), (&#39;model/_feature_extractor/classification_backbone/layer_with_weights-22/kernel/.ATTRIBUTES/VARIABLE_VALUE&#39;, [1, 1, 144, 32]), (&#39;model/_feature_extractor/classification_backbone/layer_with_weights-23/beta/.ATTRIBUTES/VARIABLE_VALUE&#39;, [32]), (&#39;model/_feature_extractor/classification_backbone/layer_with_weights-23/gamma/.ATTRIBUTES/VARIABLE_VALUE&#39;, [32]), (&#39;model/_feature_extractor/classification_backbone/layer_with_weights-23/moving_mean/.ATTRIBUTES/VARIABLE_VALUE&#39;, [32]), (&#39;model/_feature_extractor/classification_backbone/layer_with_weights-23/moving_variance/.ATTRIBUTES/VARIABLE_VALUE&#39;, [32]), (&#39;model/_feature_extractor/classification_backbone/layer_with_weights-24/kernel/.ATTRIBUTES/VARIABLE_VALUE&#39;, [1, 1, 32, 192]), (&#39;model/_feature_extractor/classification_backbone/layer_with_weights-25/beta/.ATTRIBUTES/VARIABLE_VALUE&#39;, [192]), (&#39;model/_feature_extractor/classification_backbone/layer_with_weights-25/gamma/.ATTRIBUTES/VARIABLE_VALUE&#39;, [192]), (&#39;model/_feature_extractor/classification_backbone/layer_with_weights-25/moving_mean/.ATTRIBUTES/VARIABLE_VALUE&#39;, [192]), (&#39;model/_feature_extractor/classification_backbone/layer_with_weights-25/moving_variance/.ATTRIBUTES/VARIABLE_VALUE&#39;, [192]), (&#39;model/_feature_extractor/classification_backbone/layer_with_weights-26/depthwise_kernel/.ATTRIBUTES/VARIABLE_VALUE&#39;, [3, 3, 192, 1]), (&#39;model/_feature_extractor/classification_backbone/layer_with_weights-27/beta/.ATTRIBUTES/VARIABLE_VALUE&#39;, [192]), (&#39;model/_feature_extractor/classification_backbone/layer_with_weights-27/gamma/.ATTRIBUTES/VARIABLE_VALUE&#39;, [192]), (&#39;model/_feature_extractor/classification_backbone/layer_with_weights-27/moving_mean/.ATTRIBUTES/VARIABLE_VALUE&#39;, [192]), (&#39;model/_feature_extractor/classification_backbone/layer_with_weights-27/moving_variance/.ATTRIBUTES/VARIABLE_VALUE&#39;, [192]), (&#39;model/_feature_extractor/classification_backbone/layer_with_weights-28/kernel/.ATTRIBUTES/VARIABLE_VALUE&#39;, [1, 1, 192, 32]), (&#39;model/_feature_extractor/classification_backbone/layer_with_weights-29/beta/.ATTRIBUTES/VARIABLE_VALUE&#39;, [32]), (&#39;model/_feature_extractor/classification_backbone/layer_with_weights-29/gamma/.ATTRIBUTES/VARIABLE_VALUE&#39;, [32]), (&#39;model/_feature_extractor/classification_backbone/layer_with_weights-29/moving_mean/.ATTRIBUTES/VARIABLE_VALUE&#39;, [32]), (&#39;model/_feature_extractor/classification_backbone/layer_with_weights-29/moving_variance/.ATTRIBUTES/VARIABLE_VALUE&#39;, [32]), (&#39;model/_feature_extractor/classification_backbone/layer_with_weights-3/beta/.ATTRIBUTES/VARIABLE_VALUE&#39;, [32]), (&#39;model/_feature_extractor/classification_backbone/layer_with_weights-3/gamma/.ATTRIBUTES/VARIABLE_VALUE&#39;, [32]), (&#39;model/_feature_extractor/classification_backbone/layer_with_weights-3/moving_mean/.ATTRIBUTES/VARIABLE_VALUE&#39;, [32]), (&#39;model/_feature_extractor/classification_backbone/layer_with_weights-3/moving_variance/.ATTRIBUTES/VARIABLE_VALUE&#39;, [32]), (&#39;model/_feature_extractor/classification_backbone/layer_with_weights-30/kernel/.ATTRIBUTES/VARIABLE_VALUE&#39;, [1, 1, 32, 192]), (&#39;model/_feature_extractor/classification_backbone/layer_with_weights-31/beta/.ATTRIBUTES/VARIABLE_VALUE&#39;, [192]), (&#39;model/_feature_extractor/classification_backbone/layer_with_weights-31/gamma/.ATTRIBUTES/VARIABLE_VALUE&#39;, [192]), (&#39;model/_feature_extractor/classification_backbone/layer_with_weights-31/moving_mean/.ATTRIBUTES/VARIABLE_VALUE&#39;, [192]), (&#39;model/_feature_extractor/classification_backbone/layer_with_weights-31/moving_variance/.ATTRIBUTES/VARIABLE_VALUE&#39;, [192]), (&#39;model/_feature_extractor/classification_backbone/layer_with_weights-32/depthwise_kernel/.ATTRIBUTES/VARIABLE_VALUE&#39;, [3, 3, 192, 1]), (&#39;model/_feature_extractor/classification_backbone/layer_with_weights-33/beta/.ATTRIBUTES/VARIABLE_VALUE&#39;, [192]), (&#39;model/_feature_extractor/classification_backbone/layer_with_weights-33/gamma/.ATTRIBUTES/VARIABLE_VALUE&#39;, [192]), (&#39;model/_feature_extractor/classification_backbone/layer_with_weights-33/moving_mean/.ATTRIBUTES/VARIABLE_VALUE&#39;, [192]), (&#39;model/_feature_extractor/classification_backbone/layer_with_weights-33/moving_variance/.ATTRIBUTES/VARIABLE_VALUE&#39;, [192]), (&#39;model/_feature_extractor/classification_backbone/layer_with_weights-34/kernel/.ATTRIBUTES/VARIABLE_VALUE&#39;, [1, 1, 192, 32]), (&#39;model/_feature_extractor/classification_backbone/layer_with_weights-35/beta/.ATTRIBUTES/VARIABLE_VALUE&#39;, [32]), (&#39;model/_feature_extractor/classification_backbone/layer_with_weights-35/gamma/.ATTRIBUTES/VARIABLE_VALUE&#39;, [32]), (&#39;model/_feature_extractor/classification_backbone/layer_with_weights-35/moving_mean/.ATTRIBUTES/VARIABLE_VALUE&#39;, [32]), (&#39;model/_feature_extractor/classification_backbone/layer_with_weights-35/moving_variance/.ATTRIBUTES/VARIABLE_VALUE&#39;, [32]), (&#39;model/_feature_extractor/classification_backbone/layer_with_weights-36/kernel/.ATTRIBUTES/VARIABLE_VALUE&#39;, [1, 1, 32, 192]), (&#39;model/_feature_extractor/classification_backbone/layer_with_weights-37/beta/.ATTRIBUTES/VARIABLE_VALUE&#39;, [192]), (&#39;model/_feature_extractor/classification_backbone/layer_with_weights-37/gamma/.ATTRIBUTES/VARIABLE_VALUE&#39;, [192]), (&#39;model/_feature_extractor/classification_backbone/layer_with_weights-37/moving_mean/.ATTRIBUTES/VARIABLE_VALUE&#39;, [192]), (&#39;model/_feature_extractor/classification_backbone/layer_with_weights-37/moving_variance/.ATTRIBUTES/VARIABLE_VALUE&#39;, [192]), (&#39;model/_feature_extractor/classification_backbone/layer_with_weights-38/depthwise_kernel/.ATTRIBUTES/VARIABLE_VALUE&#39;, [3, 3, 192, 1]), (&#39;model/_feature_extractor/classification_backbone/layer_with_weights-39/beta/.ATTRIBUTES/VARIABLE_VALUE&#39;, [192]), (&#39;model/_feature_extractor/classification_backbone/layer_with_weights-39/gamma/.ATTRIBUTES/VARIABLE_VALUE&#39;, [192]), (&#39;model/_feature_extractor/classification_backbone/layer_with_weights-39/moving_mean/.ATTRIBUTES/VARIABLE_VALUE&#39;, [192]), (&#39;model/_feature_extractor/classification_backbone/layer_with_weights-39/moving_variance/.ATTRIBUTES/VARIABLE_VALUE&#39;, [192]), (&#39;model/_feature_extractor/classification_backbone/layer_with_weights-4/kernel/.ATTRIBUTES/VARIABLE_VALUE&#39;, [1, 1, 32, 16]), (&#39;model/_feature_extractor/classification_backbone/layer_with_weights-40/kernel/.ATTRIBUTES/VARIABLE_VALUE&#39;, [1, 1, 192, 64]), (&#39;model/_feature_extractor/classification_backbone/layer_with_weights-41/beta/.ATTRIBUTES/VARIABLE_VALUE&#39;, [64]), (&#39;model/_feature_extractor/classification_backbone/layer_with_weights-41/gamma/.ATTRIBUTES/VARIABLE_VALUE&#39;, [64]), (&#39;model/_feature_extractor/classification_backbone/layer_with_weights-41/moving_mean/.ATTRIBUTES/VARIABLE_VALUE&#39;, [64]), (&#39;model/_feature_extractor/classification_backbone/layer_with_weights-41/moving_variance/.ATTRIBUTES/VARIABLE_VALUE&#39;, [64]), (&#39;model/_feature_extractor/classification_backbone/layer_with_weights-42/kernel/.ATTRIBUTES/VARIABLE_VALUE&#39;, [1, 1, 64, 384]), (&#39;model/_feature_extractor/classification_backbone/layer_with_weights-43/beta/.ATTRIBUTES/VARIABLE_VALUE&#39;, [384]), (&#39;model/_feature_extractor/classification_backbone/layer_with_weights-43/gamma/.ATTRIBUTES/VARIABLE_VALUE&#39;, [384]), (&#39;model/_feature_extractor/classification_backbone/layer_with_weights-43/moving_mean/.ATTRIBUTES/VARIABLE_VALUE&#39;, [384]), (&#39;model/_feature_extractor/classification_backbone/layer_with_weights-43/moving_variance/.ATTRIBUTES/VARIABLE_VALUE&#39;, [384]), (&#39;model/_feature_extractor/classification_backbone/layer_with_weights-44/depthwise_kernel/.ATTRIBUTES/VARIABLE_VALUE&#39;, [3, 3, 384, 1]), (&#39;model/_feature_extractor/classification_backbone/layer_with_weights-45/beta/.ATTRIBUTES/VARIABLE_VALUE&#39;, [384]), (&#39;model/_feature_extractor/classification_backbone/layer_with_weights-45/gamma/.ATTRIBUTES/VARIABLE_VALUE&#39;, [384]), (&#39;model/_feature_extractor/classification_backbone/layer_with_weights-45/moving_mean/.ATTRIBUTES/VARIABLE_VALUE&#39;, [384]), (&#39;model/_feature_extractor/classification_backbone/layer_with_weights-45/moving_variance/.ATTRIBUTES/VARIABLE_VALUE&#39;, [384]), (&#39;model/_feature_extractor/classification_backbone/layer_with_weights-46/kernel/.ATTRIBUTES/VARIABLE_VALUE&#39;, [1, 1, 384, 64]), (&#39;model/_feature_extractor/classification_backbone/layer_with_weights-47/beta/.ATTRIBUTES/VARIABLE_VALUE&#39;, [64]), (&#39;model/_feature_extractor/classification_backbone/layer_with_weights-47/gamma/.ATTRIBUTES/VARIABLE_VALUE&#39;, [64]), (&#39;model/_feature_extractor/classification_backbone/layer_with_weights-47/moving_mean/.ATTRIBUTES/VARIABLE_VALUE&#39;, [64]), (&#39;model/_feature_extractor/classification_backbone/layer_with_weights-47/moving_variance/.ATTRIBUTES/VARIABLE_VALUE&#39;, [64]), (&#39;model/_feature_extractor/classification_backbone/layer_with_weights-48/kernel/.ATTRIBUTES/VARIABLE_VALUE&#39;, [1, 1, 64, 384]), (&#39;model/_feature_extractor/classification_backbone/layer_with_weights-49/beta/.ATTRIBUTES/VARIABLE_VALUE&#39;, [384]), (&#39;model/_feature_extractor/classification_backbone/layer_with_weights-49/gamma/.ATTRIBUTES/VARIABLE_VALUE&#39;, [384]), (&#39;model/_feature_extractor/classification_backbone/layer_with_weights-49/moving_mean/.ATTRIBUTES/VARIABLE_VALUE&#39;, [384]), (&#39;model/_feature_extractor/classification_backbone/layer_with_weights-49/moving_variance/.ATTRIBUTES/VARIABLE_VALUE&#39;, [384]), (&#39;model/_feature_extractor/classification_backbone/layer_with_weights-5/beta/.ATTRIBUTES/VARIABLE_VALUE&#39;, [16]), (&#39;model/_feature_extractor/classification_backbone/layer_with_weights-5/gamma/.ATTRIBUTES/VARIABLE_VALUE&#39;, [16]), (&#39;model/_feature_extractor/classification_backbone/layer_with_weights-5/moving_mean/.ATTRIBUTES/VARIABLE_VALUE&#39;, [16]), (&#39;model/_feature_extractor/classification_backbone/layer_with_weights-5/moving_variance/.ATTRIBUTES/VARIABLE_VALUE&#39;, [16]), (&#39;model/_feature_extractor/classification_backbone/layer_with_weights-50/depthwise_kernel/.ATTRIBUTES/VARIABLE_VALUE&#39;, [3, 3, 384, 1]), (&#39;model/_feature_extractor/classification_backbone/layer_with_weights-51/beta/.ATTRIBUTES/VARIABLE_VALUE&#39;, [384]), (&#39;model/_feature_extractor/classification_backbone/layer_with_weights-51/gamma/.ATTRIBUTES/VARIABLE_VALUE&#39;, [384]), (&#39;model/_feature_extractor/classification_backbone/layer_with_weights-51/moving_mean/.ATTRIBUTES/VARIABLE_VALUE&#39;, [384]), (&#39;model/_feature_extractor/classification_backbone/layer_with_weights-51/moving_variance/.ATTRIBUTES/VARIABLE_VALUE&#39;, [384]), (&#39;model/_feature_extractor/classification_backbone/layer_with_weights-52/kernel/.ATTRIBUTES/VARIABLE_VALUE&#39;, [1, 1, 384, 64]), (&#39;model/_feature_extractor/classification_backbone/layer_with_weights-53/beta/.ATTRIBUTES/VARIABLE_VALUE&#39;, [64]), (&#39;model/_feature_extractor/classification_backbone/layer_with_weights-53/gamma/.ATTRIBUTES/VARIABLE_VALUE&#39;, [64]), (&#39;model/_feature_extractor/classification_backbone/layer_with_weights-53/moving_mean/.ATTRIBUTES/VARIABLE_VALUE&#39;, [64]), (&#39;model/_feature_extractor/classification_backbone/layer_with_weights-53/moving_variance/.ATTRIBUTES/VARIABLE_VALUE&#39;, [64]), (&#39;model/_feature_extractor/classification_backbone/layer_with_weights-54/kernel/.ATTRIBUTES/VARIABLE_VALUE&#39;, [1, 1, 64, 384]), (&#39;model/_feature_extractor/classification_backbone/layer_with_weights-55/beta/.ATTRIBUTES/VARIABLE_VALUE&#39;, [384]), (&#39;model/_feature_extractor/classification_backbone/layer_with_weights-55/gamma/.ATTRIBUTES/VARIABLE_VALUE&#39;, [384]), (&#39;model/_feature_extractor/classification_backbone/layer_with_weights-55/moving_mean/.ATTRIBUTES/VARIABLE_VALUE&#39;, [384]), (&#39;model/_feature_extractor/classification_backbone/layer_with_weights-55/moving_variance/.ATTRIBUTES/VARIABLE_VALUE&#39;, [384]), (&#39;model/_feature_extractor/classification_backbone/layer_with_weights-56/depthwise_kernel/.ATTRIBUTES/VARIABLE_VALUE&#39;, [3, 3, 384, 1]), (&#39;model/_feature_extractor/classification_backbone/layer_with_weights-57/beta/.ATTRIBUTES/VARIABLE_VALUE&#39;, [384]), (&#39;model/_feature_extractor/classification_backbone/layer_with_weights-57/gamma/.ATTRIBUTES/VARIABLE_VALUE&#39;, [384]), (&#39;model/_feature_extractor/classification_backbone/layer_with_weights-57/moving_mean/.ATTRIBUTES/VARIABLE_VALUE&#39;, [384]), (&#39;model/_feature_extractor/classification_backbone/layer_with_weights-57/moving_variance/.ATTRIBUTES/VARIABLE_VALUE&#39;, [384]), (&#39;model/_feature_extractor/classification_backbone/layer_with_weights-58/kernel/.ATTRIBUTES/VARIABLE_VALUE&#39;, [1, 1, 384, 64]), (&#39;model/_feature_extractor/classification_backbone/layer_with_weights-59/beta/.ATTRIBUTES/VARIABLE_VALUE&#39;, [64]), (&#39;model/_feature_extractor/classification_backbone/layer_with_weights-59/gamma/.ATTRIBUTES/VARIABLE_VALUE&#39;, [64]), (&#39;model/_feature_extractor/classification_backbone/layer_with_weights-59/moving_mean/.ATTRIBUTES/VARIABLE_VALUE&#39;, [64]), (&#39;model/_feature_extractor/classification_backbone/layer_with_weights-59/moving_variance/.ATTRIBUTES/VARIABLE_VALUE&#39;, [64]), (&#39;model/_feature_extractor/classification_backbone/layer_with_weights-6/kernel/.ATTRIBUTES/VARIABLE_VALUE&#39;, [1, 1, 16, 96]), (&#39;model/_feature_extractor/classification_backbone/layer_with_weights-60/kernel/.ATTRIBUTES/VARIABLE_VALUE&#39;, [1, 1, 64, 384]), (&#39;model/_feature_extractor/classification_backbone/layer_with_weights-61/beta/.ATTRIBUTES/VARIABLE_VALUE&#39;, [384]), (&#39;model/_feature_extractor/classification_backbone/layer_with_weights-61/gamma/.ATTRIBUTES/VARIABLE_VALUE&#39;, [384]), (&#39;model/_feature_extractor/classification_backbone/layer_with_weights-61/moving_mean/.ATTRIBUTES/VARIABLE_VALUE&#39;, [384]), (&#39;model/_feature_extractor/classification_backbone/layer_with_weights-61/moving_variance/.ATTRIBUTES/VARIABLE_VALUE&#39;, [384]), (&#39;model/_feature_extractor/classification_backbone/layer_with_weights-62/depthwise_kernel/.ATTRIBUTES/VARIABLE_VALUE&#39;, [3, 3, 384, 1]), (&#39;model/_feature_extractor/classification_backbone/layer_with_weights-63/beta/.ATTRIBUTES/VARIABLE_VALUE&#39;, [384]), (&#39;model/_feature_extractor/classification_backbone/layer_with_weights-63/gamma/.ATTRIBUTES/VARIABLE_VALUE&#39;, [384]), (&#39;model/_feature_extractor/classification_backbone/layer_with_weights-63/moving_mean/.ATTRIBUTES/VARIABLE_VALUE&#39;, [384]), (&#39;model/_feature_extractor/classification_backbone/layer_with_weights-63/moving_variance/.ATTRIBUTES/VARIABLE_VALUE&#39;, [384]), (&#39;model/_feature_extractor/classification_backbone/layer_with_weights-64/kernel/.ATTRIBUTES/VARIABLE_VALUE&#39;, [1, 1, 384, 96]), (&#39;model/_feature_extractor/classification_backbone/layer_with_weights-65/beta/.ATTRIBUTES/VARIABLE_VALUE&#39;, [96]), (&#39;model/_feature_extractor/classification_backbone/layer_with_weights-65/gamma/.ATTRIBUTES/VARIABLE_VALUE&#39;, [96]), (&#39;model/_feature_extractor/classification_backbone/layer_with_weights-65/moving_mean/.ATTRIBUTES/VARIABLE_VALUE&#39;, [96]), (&#39;model/_feature_extractor/classification_backbone/layer_with_weights-65/moving_variance/.ATTRIBUTES/VARIABLE_VALUE&#39;, [96]), (&#39;model/_feature_extractor/classification_backbone/layer_with_weights-66/kernel/.ATTRIBUTES/VARIABLE_VALUE&#39;, [1, 1, 96, 576]), (&#39;model/_feature_extractor/classification_backbone/layer_with_weights-67/beta/.ATTRIBUTES/VARIABLE_VALUE&#39;, [576]), (&#39;model/_feature_extractor/classification_backbone/layer_with_weights-67/gamma/.ATTRIBUTES/VARIABLE_VALUE&#39;, [576]), (&#39;model/_feature_extractor/classification_backbone/layer_with_weights-67/moving_mean/.ATTRIBUTES/VARIABLE_VALUE&#39;, [576]), (&#39;model/_feature_extractor/classification_backbone/layer_with_weights-67/moving_variance/.ATTRIBUTES/VARIABLE_VALUE&#39;, [576]), (&#39;model/_feature_extractor/classification_backbone/layer_with_weights-68/depthwise_kernel/.ATTRIBUTES/VARIABLE_VALUE&#39;, [3, 3, 576, 1]), (&#39;model/_feature_extractor/classification_backbone/layer_with_weights-69/beta/.ATTRIBUTES/VARIABLE_VALUE&#39;, [576]), (&#39;model/_feature_extractor/classification_backbone/layer_with_weights-69/gamma/.ATTRIBUTES/VARIABLE_VALUE&#39;, [576]), (&#39;model/_feature_extractor/classification_backbone/layer_with_weights-69/moving_mean/.ATTRIBUTES/VARIABLE_VALUE&#39;, [576]), (&#39;model/_feature_extractor/classification_backbone/layer_with_weights-69/moving_variance/.ATTRIBUTES/VARIABLE_VALUE&#39;, [576]), (&#39;model/_feature_extractor/classification_backbone/layer_with_weights-7/beta/.ATTRIBUTES/VARIABLE_VALUE&#39;, [96]), (&#39;model/_feature_extractor/classification_backbone/layer_with_weights-7/gamma/.ATTRIBUTES/VARIABLE_VALUE&#39;, [96]), (&#39;model/_feature_extractor/classification_backbone/layer_with_weights-7/moving_mean/.ATTRIBUTES/VARIABLE_VALUE&#39;, [96]), (&#39;model/_feature_extractor/classification_backbone/layer_with_weights-7/moving_variance/.ATTRIBUTES/VARIABLE_VALUE&#39;, [96]), (&#39;model/_feature_extractor/classification_backbone/layer_with_weights-70/kernel/.ATTRIBUTES/VARIABLE_VALUE&#39;, [1, 1, 576, 96]), (&#39;model/_feature_extractor/classification_backbone/layer_with_weights-71/beta/.ATTRIBUTES/VARIABLE_VALUE&#39;, [96]), (&#39;model/_feature_extractor/classification_backbone/layer_with_weights-71/gamma/.ATTRIBUTES/VARIABLE_VALUE&#39;, [96]), (&#39;model/_feature_extractor/classification_backbone/layer_with_weights-71/moving_mean/.ATTRIBUTES/VARIABLE_VALUE&#39;, [96]), (&#39;model/_feature_extractor/classification_backbone/layer_with_weights-71/moving_variance/.ATTRIBUTES/VARIABLE_VALUE&#39;, [96]), (&#39;model/_feature_extractor/classification_backbone/layer_with_weights-72/kernel/.ATTRIBUTES/VARIABLE_VALUE&#39;, [1, 1, 96, 576]), (&#39;model/_feature_extractor/classification_backbone/layer_with_weights-73/beta/.ATTRIBUTES/VARIABLE_VALUE&#39;, [576]), (&#39;model/_feature_extractor/classification_backbone/layer_with_weights-73/gamma/.ATTRIBUTES/VARIABLE_VALUE&#39;, [576]), (&#39;model/_feature_extractor/classification_backbone/layer_with_weights-73/moving_mean/.ATTRIBUTES/VARIABLE_VALUE&#39;, [576]), (&#39;model/_feature_extractor/classification_backbone/layer_with_weights-73/moving_variance/.ATTRIBUTES/VARIABLE_VALUE&#39;, [576]), (&#39;model/_feature_extractor/classification_backbone/layer_with_weights-74/depthwise_kernel/.ATTRIBUTES/VARIABLE_VALUE&#39;, [3, 3, 576, 1]), (&#39;model/_feature_extractor/classification_backbone/layer_with_weights-75/beta/.ATTRIBUTES/VARIABLE_VALUE&#39;, [576]), (&#39;model/_feature_extractor/classification_backbone/layer_with_weights-75/gamma/.ATTRIBUTES/VARIABLE_VALUE&#39;, [576]), (&#39;model/_feature_extractor/classification_backbone/layer_with_weights-75/moving_mean/.ATTRIBUTES/VARIABLE_VALUE&#39;, [576]), (&#39;model/_feature_extractor/classification_backbone/layer_with_weights-75/moving_variance/.ATTRIBUTES/VARIABLE_VALUE&#39;, [576]), (&#39;model/_feature_extractor/classification_backbone/layer_with_weights-76/kernel/.ATTRIBUTES/VARIABLE_VALUE&#39;, [1, 1, 576, 96]), (&#39;model/_feature_extractor/classification_backbone/layer_with_weights-77/beta/.ATTRIBUTES/VARIABLE_VALUE&#39;, [96]), (&#39;model/_feature_extractor/classification_backbone/layer_with_weights-77/gamma/.ATTRIBUTES/VARIABLE_VALUE&#39;, [96]), (&#39;model/_feature_extractor/classification_backbone/layer_with_weights-77/moving_mean/.ATTRIBUTES/VARIABLE_VALUE&#39;, [96]), (&#39;model/_feature_extractor/classification_backbone/layer_with_weights-77/moving_variance/.ATTRIBUTES/VARIABLE_VALUE&#39;, [96]), (&#39;model/_feature_extractor/classification_backbone/layer_with_weights-78/kernel/.ATTRIBUTES/VARIABLE_VALUE&#39;, [1, 1, 96, 576]), (&#39;model/_feature_extractor/classification_backbone/layer_with_weights-79/beta/.ATTRIBUTES/VARIABLE_VALUE&#39;, [576]), (&#39;model/_feature_extractor/classification_backbone/layer_with_weights-79/gamma/.ATTRIBUTES/VARIABLE_VALUE&#39;, [576]), (&#39;model/_feature_extractor/classification_backbone/layer_with_weights-79/moving_mean/.ATTRIBUTES/VARIABLE_VALUE&#39;, [576]), (&#39;model/_feature_extractor/classification_backbone/layer_with_weights-79/moving_variance/.ATTRIBUTES/VARIABLE_VALUE&#39;, [576]), (&#39;model/_feature_extractor/classification_backbone/layer_with_weights-8/depthwise_kernel/.ATTRIBUTES/VARIABLE_VALUE&#39;, [3, 3, 96, 1]), (&#39;model/_feature_extractor/classification_backbone/layer_with_weights-80/depthwise_kernel/.ATTRIBUTES/VARIABLE_VALUE&#39;, [3, 3, 576, 1]), (&#39;model/_feature_extractor/classification_backbone/layer_with_weights-81/beta/.ATTRIBUTES/VARIABLE_VALUE&#39;, [576]), (&#39;model/_feature_extractor/classification_backbone/layer_with_weights-81/gamma/.ATTRIBUTES/VARIABLE_VALUE&#39;, [576]), (&#39;model/_feature_extractor/classification_backbone/layer_with_weights-81/moving_mean/.ATTRIBUTES/VARIABLE_VALUE&#39;, [576]), (&#39;model/_feature_extractor/classification_backbone/layer_with_weights-81/moving_variance/.ATTRIBUTES/VARIABLE_VALUE&#39;, [576]), (&#39;model/_feature_extractor/classification_backbone/layer_with_weights-82/kernel/.ATTRIBUTES/VARIABLE_VALUE&#39;, [1, 1, 576, 160]), (&#39;model/_feature_extractor/classification_backbone/layer_with_weights-83/beta/.ATTRIBUTES/VARIABLE_VALUE&#39;, [160]), (&#39;model/_feature_extractor/classification_backbone/layer_with_weights-83/gamma/.ATTRIBUTES/VARIABLE_VALUE&#39;, [160]), (&#39;model/_feature_extractor/classification_backbone/layer_with_weights-83/moving_mean/.ATTRIBUTES/VARIABLE_VALUE&#39;, [160]), (&#39;model/_feature_extractor/classification_backbone/layer_with_weights-83/moving_variance/.ATTRIBUTES/VARIABLE_VALUE&#39;, [160]), (&#39;model/_feature_extractor/classification_backbone/layer_with_weights-84/kernel/.ATTRIBUTES/VARIABLE_VALUE&#39;, [1, 1, 160, 960]), (&#39;model/_feature_extractor/classification_backbone/layer_with_weights-85/beta/.ATTRIBUTES/VARIABLE_VALUE&#39;, [960]), (&#39;model/_feature_extractor/classification_backbone/layer_with_weights-85/gamma/.ATTRIBUTES/VARIABLE_VALUE&#39;, [960]), (&#39;model/_feature_extractor/classification_backbone/layer_with_weights-85/moving_mean/.ATTRIBUTES/VARIABLE_VALUE&#39;, [960]), (&#39;model/_feature_extractor/classification_backbone/layer_with_weights-85/moving_variance/.ATTRIBUTES/VARIABLE_VALUE&#39;, [960]), (&#39;model/_feature_extractor/classification_backbone/layer_with_weights-86/depthwise_kernel/.ATTRIBUTES/VARIABLE_VALUE&#39;, [3, 3, 960, 1]), (&#39;model/_feature_extractor/classification_backbone/layer_with_weights-87/beta/.ATTRIBUTES/VARIABLE_VALUE&#39;, [960]), (&#39;model/_feature_extractor/classification_backbone/layer_with_weights-87/gamma/.ATTRIBUTES/VARIABLE_VALUE&#39;, [960]), (&#39;model/_feature_extractor/classification_backbone/layer_with_weights-87/moving_mean/.ATTRIBUTES/VARIABLE_VALUE&#39;, [960]), (&#39;model/_feature_extractor/classification_backbone/layer_with_weights-87/moving_variance/.ATTRIBUTES/VARIABLE_VALUE&#39;, [960]), (&#39;model/_feature_extractor/classification_backbone/layer_with_weights-88/kernel/.ATTRIBUTES/VARIABLE_VALUE&#39;, [1, 1, 960, 160]), (&#39;model/_feature_extractor/classification_backbone/layer_with_weights-89/beta/.ATTRIBUTES/VARIABLE_VALUE&#39;, [160]), (&#39;model/_feature_extractor/classification_backbone/layer_with_weights-89/gamma/.ATTRIBUTES/VARIABLE_VALUE&#39;, [160]), (&#39;model/_feature_extractor/classification_backbone/layer_with_weights-89/moving_mean/.ATTRIBUTES/VARIABLE_VALUE&#39;, [160]), (&#39;model/_feature_extractor/classification_backbone/layer_with_weights-89/moving_variance/.ATTRIBUTES/VARIABLE_VALUE&#39;, [160]), (&#39;model/_feature_extractor/classification_backbone/layer_with_weights-9/beta/.ATTRIBUTES/VARIABLE_VALUE&#39;, [96]), (&#39;model/_feature_extractor/classification_backbone/layer_with_weights-9/gamma/.ATTRIBUTES/VARIABLE_VALUE&#39;, [96]), (&#39;model/_feature_extractor/classification_backbone/layer_with_weights-9/moving_mean/.ATTRIBUTES/VARIABLE_VALUE&#39;, [96]), (&#39;model/_feature_extractor/classification_backbone/layer_with_weights-9/moving_variance/.ATTRIBUTES/VARIABLE_VALUE&#39;, [96]), (&#39;model/_feature_extractor/classification_backbone/layer_with_weights-90/kernel/.ATTRIBUTES/VARIABLE_VALUE&#39;, [1, 1, 160, 960]), (&#39;model/_feature_extractor/classification_backbone/layer_with_weights-91/beta/.ATTRIBUTES/VARIABLE_VALUE&#39;, [960]), (&#39;model/_feature_extractor/classification_backbone/layer_with_weights-91/gamma/.ATTRIBUTES/VARIABLE_VALUE&#39;, [960]), (&#39;model/_feature_extractor/classification_backbone/layer_with_weights-91/moving_mean/.ATTRIBUTES/VARIABLE_VALUE&#39;, [960]), (&#39;model/_feature_extractor/classification_backbone/layer_with_weights-91/moving_variance/.ATTRIBUTES/VARIABLE_VALUE&#39;, [960]), (&#39;model/_feature_extractor/classification_backbone/layer_with_weights-92/depthwise_kernel/.ATTRIBUTES/VARIABLE_VALUE&#39;, [3, 3, 960, 1]), (&#39;model/_feature_extractor/classification_backbone/layer_with_weights-93/beta/.ATTRIBUTES/VARIABLE_VALUE&#39;, [960]), (&#39;model/_feature_extractor/classification_backbone/layer_with_weights-93/gamma/.ATTRIBUTES/VARIABLE_VALUE&#39;, [960]), (&#39;model/_feature_extractor/classification_backbone/layer_with_weights-93/moving_mean/.ATTRIBUTES/VARIABLE_VALUE&#39;, [960]), (&#39;model/_feature_extractor/classification_backbone/layer_with_weights-93/moving_variance/.ATTRIBUTES/VARIABLE_VALUE&#39;, [960]), (&#39;model/_feature_extractor/classification_backbone/layer_with_weights-94/kernel/.ATTRIBUTES/VARIABLE_VALUE&#39;, [1, 1, 960, 160]), (&#39;model/_feature_extractor/classification_backbone/layer_with_weights-95/beta/.ATTRIBUTES/VARIABLE_VALUE&#39;, [160]), (&#39;model/_feature_extractor/classification_backbone/layer_with_weights-95/gamma/.ATTRIBUTES/VARIABLE_VALUE&#39;, [160]), (&#39;model/_feature_extractor/classification_backbone/layer_with_weights-95/moving_mean/.ATTRIBUTES/VARIABLE_VALUE&#39;, [160]), (&#39;model/_feature_extractor/classification_backbone/layer_with_weights-95/moving_variance/.ATTRIBUTES/VARIABLE_VALUE&#39;, [160]), (&#39;model/_feature_extractor/classification_backbone/layer_with_weights-96/kernel/.ATTRIBUTES/VARIABLE_VALUE&#39;, [1, 1, 160, 960]), (&#39;model/_feature_extractor/classification_backbone/layer_with_weights-97/beta/.ATTRIBUTES/VARIABLE_VALUE&#39;, [960]), (&#39;model/_feature_extractor/classification_backbone/layer_with_weights-97/gamma/.ATTRIBUTES/VARIABLE_VALUE&#39;, [960]), (&#39;model/_feature_extractor/classification_backbone/layer_with_weights-97/moving_mean/.ATTRIBUTES/VARIABLE_VALUE&#39;, [960]), (&#39;model/_feature_extractor/classification_backbone/layer_with_weights-97/moving_variance/.ATTRIBUTES/VARIABLE_VALUE&#39;, [960]), (&#39;model/_feature_extractor/classification_backbone/layer_with_weights-98/depthwise_kernel/.ATTRIBUTES/VARIABLE_VALUE&#39;, [3, 3, 960, 1]), (&#39;model/_feature_extractor/classification_backbone/layer_with_weights-99/beta/.ATTRIBUTES/VARIABLE_VALUE&#39;, [960]), (&#39;model/_feature_extractor/classification_backbone/layer_with_weights-99/gamma/.ATTRIBUTES/VARIABLE_VALUE&#39;, [960]), (&#39;model/_feature_extractor/classification_backbone/layer_with_weights-99/moving_mean/.ATTRIBUTES/VARIABLE_VALUE&#39;, [960]), (&#39;model/_feature_extractor/classification_backbone/layer_with_weights-99/moving_variance/.ATTRIBUTES/VARIABLE_VALUE&#39;, [960]), (&#39;model/_feature_extractor/feature_map_generator/convolutions/2/0/kernel/.ATTRIBUTES/VARIABLE_VALUE&#39;, [1, 1, 1280, 256]), (&#39;model/_feature_extractor/feature_map_generator/convolutions/2/1/beta/.ATTRIBUTES/VARIABLE_VALUE&#39;, [256]), (&#39;model/_feature_extractor/feature_map_generator/convolutions/2/1/gamma/.ATTRIBUTES/VARIABLE_VALUE&#39;, [256]), (&#39;model/_feature_extractor/feature_map_generator/convolutions/2/1/moving_mean/.ATTRIBUTES/VARIABLE_VALUE&#39;, [256]), (&#39;model/_feature_extractor/feature_map_generator/convolutions/2/1/moving_variance/.ATTRIBUTES/VARIABLE_VALUE&#39;, [256]), (&#39;model/_feature_extractor/feature_map_generator/convolutions/2/3/kernel/.ATTRIBUTES/VARIABLE_VALUE&#39;, [3, 3, 256, 512]), (&#39;model/_feature_extractor/feature_map_generator/convolutions/2/4/beta/.ATTRIBUTES/VARIABLE_VALUE&#39;, [512]), (&#39;model/_feature_extractor/feature_map_generator/convolutions/2/4/gamma/.ATTRIBUTES/VARIABLE_VALUE&#39;, [512]), (&#39;model/_feature_extractor/feature_map_generator/convolutions/2/4/moving_mean/.ATTRIBUTES/VARIABLE_VALUE&#39;, [512]), (&#39;model/_feature_extractor/feature_map_generator/convolutions/2/4/moving_variance/.ATTRIBUTES/VARIABLE_VALUE&#39;, [512]), (&#39;model/_feature_extractor/feature_map_generator/convolutions/3/0/kernel/.ATTRIBUTES/VARIABLE_VALUE&#39;, [1, 1, 512, 128]), (&#39;model/_feature_extractor/feature_map_generator/convolutions/3/1/beta/.ATTRIBUTES/VARIABLE_VALUE&#39;, [128]), (&#39;model/_feature_extractor/feature_map_generator/convolutions/3/1/gamma/.ATTRIBUTES/VARIABLE_VALUE&#39;, [128]), (&#39;model/_feature_extractor/feature_map_generator/convolutions/3/1/moving_mean/.ATTRIBUTES/VARIABLE_VALUE&#39;, [128]), (&#39;model/_feature_extractor/feature_map_generator/convolutions/3/1/moving_variance/.ATTRIBUTES/VARIABLE_VALUE&#39;, [128]), (&#39;model/_feature_extractor/feature_map_generator/convolutions/3/3/kernel/.ATTRIBUTES/VARIABLE_VALUE&#39;, [3, 3, 128, 256]), (&#39;model/_feature_extractor/feature_map_generator/convolutions/3/4/beta/.ATTRIBUTES/VARIABLE_VALUE&#39;, [256]), (&#39;model/_feature_extractor/feature_map_generator/convolutions/3/4/gamma/.ATTRIBUTES/VARIABLE_VALUE&#39;, [256]), (&#39;model/_feature_extractor/feature_map_generator/convolutions/3/4/moving_mean/.ATTRIBUTES/VARIABLE_VALUE&#39;, [256]), (&#39;model/_feature_extractor/feature_map_generator/convolutions/3/4/moving_variance/.ATTRIBUTES/VARIABLE_VALUE&#39;, [256]), (&#39;model/_feature_extractor/feature_map_generator/convolutions/4/0/kernel/.ATTRIBUTES/VARIABLE_VALUE&#39;, [1, 1, 256, 128]), (&#39;model/_feature_extractor/feature_map_generator/convolutions/4/1/beta/.ATTRIBUTES/VARIABLE_VALUE&#39;, [128]), (&#39;model/_feature_extractor/feature_map_generator/convolutions/4/1/gamma/.ATTRIBUTES/VARIABLE_VALUE&#39;, [128]), (&#39;model/_feature_extractor/feature_map_generator/convolutions/4/1/moving_mean/.ATTRIBUTES/VARIABLE_VALUE&#39;, [128]), (&#39;model/_feature_extractor/feature_map_generator/convolutions/4/1/moving_variance/.ATTRIBUTES/VARIABLE_VALUE&#39;, [128]), (&#39;model/_feature_extractor/feature_map_generator/convolutions/4/3/kernel/.ATTRIBUTES/VARIABLE_VALUE&#39;, [3, 3, 128, 256]), (&#39;model/_feature_extractor/feature_map_generator/convolutions/4/4/beta/.ATTRIBUTES/VARIABLE_VALUE&#39;, [256]), (&#39;model/_feature_extractor/feature_map_generator/convolutions/4/4/gamma/.ATTRIBUTES/VARIABLE_VALUE&#39;, [256]), (&#39;model/_feature_extractor/feature_map_generator/convolutions/4/4/moving_mean/.ATTRIBUTES/VARIABLE_VALUE&#39;, [256]), (&#39;model/_feature_extractor/feature_map_generator/convolutions/4/4/moving_variance/.ATTRIBUTES/VARIABLE_VALUE&#39;, [256]), (&#39;model/_feature_extractor/feature_map_generator/convolutions/5/0/kernel/.ATTRIBUTES/VARIABLE_VALUE&#39;, [1, 1, 256, 64]), (&#39;model/_feature_extractor/feature_map_generator/convolutions/5/1/beta/.ATTRIBUTES/VARIABLE_VALUE&#39;, [64]), (&#39;model/_feature_extractor/feature_map_generator/convolutions/5/1/gamma/.ATTRIBUTES/VARIABLE_VALUE&#39;, [64]), (&#39;model/_feature_extractor/feature_map_generator/convolutions/5/1/moving_mean/.ATTRIBUTES/VARIABLE_VALUE&#39;, [64]), (&#39;model/_feature_extractor/feature_map_generator/convolutions/5/1/moving_variance/.ATTRIBUTES/VARIABLE_VALUE&#39;, [64]), (&#39;model/_feature_extractor/feature_map_generator/convolutions/5/3/kernel/.ATTRIBUTES/VARIABLE_VALUE&#39;, [3, 3, 64, 128]), (&#39;model/_feature_extractor/feature_map_generator/convolutions/5/4/beta/.ATTRIBUTES/VARIABLE_VALUE&#39;, [128]), (&#39;model/_feature_extractor/feature_map_generator/convolutions/5/4/gamma/.ATTRIBUTES/VARIABLE_VALUE&#39;, [128]), (&#39;model/_feature_extractor/feature_map_generator/convolutions/5/4/moving_mean/.ATTRIBUTES/VARIABLE_VALUE&#39;, [128]), (&#39;model/_feature_extractor/feature_map_generator/convolutions/5/4/moving_variance/.ATTRIBUTES/VARIABLE_VALUE&#39;, [128]), (&#39;save_counter/.ATTRIBUTES/VARIABLE_VALUE&#39;, [])]\n"
    },
    {
     "output_type": "error",
     "ename": "ResourceExhaustedError",
     "evalue": "OOM when allocating tensor with shape[1,320,320,3] and type float on /job:localhost/replica:0/task:0/device:GPU:0 by allocator GPU_0_bfc [Op:Sub]",
     "traceback": [
      "\u001b[1;31m---------------------------------------------------------------------------\u001b[0m",
      "\u001b[1;31mResourceExhaustedError\u001b[0m                    Traceback (most recent call last)",
      "\u001b[1;32m&lt;ipython-input-39-7dbd0029d4ce&gt;\u001b[0m in \u001b[0;36m&lt;module&gt;\u001b[1;34m\u001b[0m\n\u001b[0;32m      4\u001b[0m }\n\u001b[0;32m      5\u001b[0m \u001b[1;33m\u001b[0m\u001b[0m\n\u001b[1;32m----&gt; 6\u001b[1;33m \u001b[0mtrained_model\u001b[0m \u001b[1;33m=\u001b[0m \u001b[0mtrain_loop\u001b[0m\u001b[1;33m(\u001b[0m\u001b[0mconfig\u001b[0m\u001b[1;33m)\u001b[0m\u001b[1;33m\u001b[0m\u001b[1;33m\u001b[0m\u001b[0m\n\u001b[0m",
      "\u001b[1;32m&lt;ipython-input-38-79a08ca1bed9&gt;\u001b[0m in \u001b[0;36mtrain_loop\u001b[1;34m(config)\u001b[0m\n\u001b[0;32m      6\u001b[0m     \u001b[0mmetrics_interval\u001b[0m \u001b[1;33m=\u001b[0m \u001b[0mconfig\u001b[0m\u001b[1;33m[\u001b[0m\u001b[1;34m&quot;metrics_interval&quot;\u001b[0m\u001b[1;33m]\u001b[0m \u001b[1;32mif\u001b[0m \u001b[1;34m&quot;metrics_interval&quot;\u001b[0m \u001b[1;32min\u001b[0m \u001b[0mconfig\u001b[0m \u001b[1;32melse\u001b[0m \u001b[1;36m5\u001b[0m\u001b[1;33m\u001b[0m\u001b[1;33m\u001b[0m\u001b[0m\n\u001b[0;32m      7\u001b[0m \u001b[1;33m\u001b[0m\u001b[0m\n\u001b[1;32m----&gt; 8\u001b[1;33m     \u001b[0mmodel\u001b[0m \u001b[1;33m=\u001b[0m \u001b[0mget_model\u001b[0m\u001b[1;33m(\u001b[0m\u001b[1;33m)\u001b[0m\u001b[1;33m\u001b[0m\u001b[1;33m\u001b[0m\u001b[0m\n\u001b[0m\u001b[0;32m      9\u001b[0m     \u001b[0mtrain_image_tensors\u001b[0m\u001b[1;33m,\u001b[0m \u001b[0mgt_classes_one_hot_tensors\u001b[0m\u001b[1;33m,\u001b[0m \u001b[0mgt_box_tensors\u001b[0m \u001b[1;33m=\u001b[0m \u001b[0mget_dataset\u001b[0m\u001b[1;33m(\u001b[0m\u001b[1;33m)\u001b[0m\u001b[1;33m\u001b[0m\u001b[1;33m\u001b[0m\u001b[0m\n\u001b[0;32m     10\u001b[0m \u001b[1;33m\u001b[0m\u001b[0m\n",
      "\u001b[1;32m&lt;ipython-input-36-1b1979baec3d&gt;\u001b[0m in \u001b[0;36mget_model\u001b[1;34m()\u001b[0m\n\u001b[0;32m     28\u001b[0m     \u001b[0mckpt\u001b[0m\u001b[1;33m.\u001b[0m\u001b[0mrestore\u001b[0m\u001b[1;33m(\u001b[0m\u001b[0mcheckpoint_path\u001b[0m\u001b[1;33m)\u001b[0m\u001b[1;33m.\u001b[0m\u001b[0mexpect_partial\u001b[0m\u001b[1;33m(\u001b[0m\u001b[1;33m)\u001b[0m\u001b[1;33m\u001b[0m\u001b[1;33m\u001b[0m\u001b[0m\n\u001b[0;32m     29\u001b[0m \u001b[1;33m\u001b[0m\u001b[0m\n\u001b[1;32m---&gt; 30\u001b[1;33m     \u001b[0mimage\u001b[0m\u001b[1;33m,\u001b[0m \u001b[0mshapes\u001b[0m \u001b[1;33m=\u001b[0m \u001b[0mdetection_model\u001b[0m\u001b[1;33m.\u001b[0m\u001b[0mpreprocess\u001b[0m\u001b[1;33m(\u001b[0m\u001b[0mtf\u001b[0m\u001b[1;33m.\u001b[0m\u001b[0mzeros\u001b[0m\u001b[1;33m(\u001b[0m\u001b[1;33m[\u001b[0m\u001b[1;36m1\u001b[0m\u001b[1;33m,\u001b[0m \u001b[1;36m320\u001b[0m\u001b[1;33m,\u001b[0m \u001b[1;36m320\u001b[0m\u001b[1;33m,\u001b[0m \u001b[1;36m3\u001b[0m\u001b[1;33m]\u001b[0m\u001b[1;33m)\u001b[0m\u001b[1;33m)\u001b[0m\u001b[1;33m\u001b[0m\u001b[1;33m\u001b[0m\u001b[0m\n\u001b[0m\u001b[0;32m     31\u001b[0m     \u001b[0mprint\u001b[0m\u001b[1;33m(\u001b[0m\u001b[0mshapes\u001b[0m\u001b[1;33m)\u001b[0m\u001b[1;33m\u001b[0m\u001b[1;33m\u001b[0m\u001b[0m\n\u001b[0;32m     32\u001b[0m     \u001b[0mprint\u001b[0m\u001b[1;33m(\u001b[0m\u001b[0mimage\u001b[0m\u001b[1;33m)\u001b[0m\u001b[1;33m\u001b[0m\u001b[1;33m\u001b[0m\u001b[0m\n",
      "\u001b[1;32m~\\AppData\\Roaming\\Python\\Python37\\site-packages\\object_detection\\meta_architectures\\ssd_meta_arch.py\u001b[0m in \u001b[0;36mpreprocess\u001b[1;34m(self, inputs)\u001b[0m\n\u001b[0;32m    480\u001b[0m     &quot;&quot;&quot;\n\u001b[0;32m    481\u001b[0m     \u001b[1;32mwith\u001b[0m \u001b[0mtf\u001b[0m\u001b[1;33m.\u001b[0m\u001b[0mname_scope\u001b[0m\u001b[1;33m(\u001b[0m\u001b[1;34m&#39;Preprocessor&#39;\u001b[0m\u001b[1;33m)\u001b[0m\u001b[1;33m:\u001b[0m\u001b[1;33m\u001b[0m\u001b[1;33m\u001b[0m\u001b[0m\n\u001b[1;32m--&gt; 482\u001b[1;33m       \u001b[0mnormalized_inputs\u001b[0m \u001b[1;33m=\u001b[0m \u001b[0mself\u001b[0m\u001b[1;33m.\u001b[0m\u001b[0m_feature_extractor\u001b[0m\u001b[1;33m.\u001b[0m\u001b[0mpreprocess\u001b[0m\u001b[1;33m(\u001b[0m\u001b[0minputs\u001b[0m\u001b[1;33m)\u001b[0m\u001b[1;33m\u001b[0m\u001b[1;33m\u001b[0m\u001b[0m\n\u001b[0m\u001b[0;32m    483\u001b[0m       return shape_utils.resize_images_and_return_shapes(\n\u001b[0;32m    484\u001b[0m           normalized_inputs, self._image_resizer_fn)\n",
      "\u001b[1;32m~\\AppData\\Roaming\\Python\\Python37\\site-packages\\object_detection\\models\\ssd_resnet_v1_fpn_keras_feature_extractor.py\u001b[0m in \u001b[0;36mpreprocess\u001b[1;34m(self, resized_inputs)\u001b[0m\n\u001b[0;32m    204\u001b[0m     \u001b[1;32mif\u001b[0m \u001b[0mresized_inputs\u001b[0m\u001b[1;33m.\u001b[0m\u001b[0mshape\u001b[0m\u001b[1;33m.\u001b[0m\u001b[0mas_list\u001b[0m\u001b[1;33m(\u001b[0m\u001b[1;33m)\u001b[0m\u001b[1;33m[\u001b[0m\u001b[1;36m3\u001b[0m\u001b[1;33m]\u001b[0m \u001b[1;33m==\u001b[0m \u001b[1;36m3\u001b[0m\u001b[1;33m:\u001b[0m\u001b[1;33m\u001b[0m\u001b[1;33m\u001b[0m\u001b[0m\n\u001b[0;32m    205\u001b[0m       \u001b[0mchannel_means\u001b[0m \u001b[1;33m=\u001b[0m \u001b[1;33m[\u001b[0m\u001b[1;36m123.68\u001b[0m\u001b[1;33m,\u001b[0m \u001b[1;36m116.779\u001b[0m\u001b[1;33m,\u001b[0m \u001b[1;36m103.939\u001b[0m\u001b[1;33m]\u001b[0m\u001b[1;33m\u001b[0m\u001b[1;33m\u001b[0m\u001b[0m\n\u001b[1;32m--&gt; 206\u001b[1;33m       \u001b[1;32mreturn\u001b[0m \u001b[0mresized_inputs\u001b[0m \u001b[1;33m-\u001b[0m \u001b[1;33m[\u001b[0m\u001b[1;33m[\u001b[0m\u001b[0mchannel_means\u001b[0m\u001b[1;33m]\u001b[0m\u001b[1;33m]\u001b[0m\u001b[1;33m\u001b[0m\u001b[1;33m\u001b[0m\u001b[0m\n\u001b[0m\u001b[0;32m    207\u001b[0m     \u001b[1;32melse\u001b[0m\u001b[1;33m:\u001b[0m\u001b[1;33m\u001b[0m\u001b[1;33m\u001b[0m\u001b[0m\n\u001b[0;32m    208\u001b[0m       \u001b[1;32mreturn\u001b[0m \u001b[0mresized_inputs\u001b[0m\u001b[1;33m\u001b[0m\u001b[1;33m\u001b[0m\u001b[0m\n",
      "\u001b[1;32m~\\AppData\\Roaming\\Python\\Python37\\site-packages\\tensorflow\\python\\ops\\math_ops.py\u001b[0m in \u001b[0;36mbinary_op_wrapper\u001b[1;34m(x, y)\u001b[0m\n\u001b[0;32m    995\u001b[0m           \u001b[1;32melse\u001b[0m\u001b[1;33m:\u001b[0m\u001b[1;33m\u001b[0m\u001b[1;33m\u001b[0m\u001b[0m\n\u001b[0;32m    996\u001b[0m             \u001b[1;32mraise\u001b[0m\u001b[1;33m\u001b[0m\u001b[1;33m\u001b[0m\u001b[0m\n\u001b[1;32m--&gt; 997\u001b[1;33m       \u001b[1;32mreturn\u001b[0m \u001b[0mfunc\u001b[0m\u001b[1;33m(\u001b[0m\u001b[0mx\u001b[0m\u001b[1;33m,\u001b[0m \u001b[0my\u001b[0m\u001b[1;33m,\u001b[0m \u001b[0mname\u001b[0m\u001b[1;33m=\u001b[0m\u001b[0mname\u001b[0m\u001b[1;33m)\u001b[0m\u001b[1;33m\u001b[0m\u001b[1;33m\u001b[0m\u001b[0m\n\u001b[0m\u001b[0;32m    998\u001b[0m \u001b[1;33m\u001b[0m\u001b[0m\n\u001b[0;32m    999\u001b[0m   \u001b[1;32mdef\u001b[0m \u001b[0mbinary_op_wrapper_sparse\u001b[0m\u001b[1;33m(\u001b[0m\u001b[0msp_x\u001b[0m\u001b[1;33m,\u001b[0m \u001b[0my\u001b[0m\u001b[1;33m)\u001b[0m\u001b[1;33m:\u001b[0m\u001b[1;33m\u001b[0m\u001b[1;33m\u001b[0m\u001b[0m\n",
      "\u001b[1;32m~\\AppData\\Roaming\\Python\\Python37\\site-packages\\tensorflow\\python\\ops\\gen_math_ops.py\u001b[0m in \u001b[0;36msub\u001b[1;34m(x, y, name)\u001b[0m\n\u001b[0;32m  10098\u001b[0m         \u001b[1;32mpass\u001b[0m  \u001b[1;31m# Add nodes to the TensorFlow graph.\u001b[0m\u001b[1;33m\u001b[0m\u001b[1;33m\u001b[0m\u001b[0m\n\u001b[0;32m  10099\u001b[0m     \u001b[1;32mexcept\u001b[0m \u001b[0m_core\u001b[0m\u001b[1;33m.\u001b[0m\u001b[0m_NotOkStatusException\u001b[0m \u001b[1;32mas\u001b[0m \u001b[0me\u001b[0m\u001b[1;33m:\u001b[0m\u001b[1;33m\u001b[0m\u001b[1;33m\u001b[0m\u001b[0m\n\u001b[1;32m&gt; 10100\u001b[1;33m       \u001b[0m_ops\u001b[0m\u001b[1;33m.\u001b[0m\u001b[0mraise_from_not_ok_status\u001b[0m\u001b[1;33m(\u001b[0m\u001b[0me\u001b[0m\u001b[1;33m,\u001b[0m \u001b[0mname\u001b[0m\u001b[1;33m)\u001b[0m\u001b[1;33m\u001b[0m\u001b[1;33m\u001b[0m\u001b[0m\n\u001b[0m\u001b[0;32m  10101\u001b[0m   \u001b[1;31m# Add nodes to the TensorFlow graph.\u001b[0m\u001b[1;33m\u001b[0m\u001b[1;33m\u001b[0m\u001b[1;33m\u001b[0m\u001b[0m\n\u001b[0;32m  10102\u001b[0m   _, _, _op, _outputs = _op_def_library._apply_op_helper(\n",
      "\u001b[1;32m~\\AppData\\Roaming\\Python\\Python37\\site-packages\\tensorflow\\python\\framework\\ops.py\u001b[0m in \u001b[0;36mraise_from_not_ok_status\u001b[1;34m(e, name)\u001b[0m\n\u001b[0;32m   6651\u001b[0m   \u001b[0mmessage\u001b[0m \u001b[1;33m=\u001b[0m \u001b[0me\u001b[0m\u001b[1;33m.\u001b[0m\u001b[0mmessage\u001b[0m \u001b[1;33m+\u001b[0m \u001b[1;33m(\u001b[0m\u001b[1;34m&quot; name: &quot;\u001b[0m \u001b[1;33m+\u001b[0m \u001b[0mname\u001b[0m \u001b[1;32mif\u001b[0m \u001b[0mname\u001b[0m \u001b[1;32mis\u001b[0m \u001b[1;32mnot\u001b[0m \u001b[1;32mNone\u001b[0m \u001b[1;32melse\u001b[0m \u001b[1;34m&quot;&quot;\u001b[0m\u001b[1;33m)\u001b[0m\u001b[1;33m\u001b[0m\u001b[1;33m\u001b[0m\u001b[0m\n\u001b[0;32m   6652\u001b[0m   \u001b[1;31m# pylint: disable=protected-access\u001b[0m\u001b[1;33m\u001b[0m\u001b[1;33m\u001b[0m\u001b[1;33m\u001b[0m\u001b[0m\n\u001b[1;32m-&gt; 6653\u001b[1;33m   \u001b[0msix\u001b[0m\u001b[1;33m.\u001b[0m\u001b[0mraise_from\u001b[0m\u001b[1;33m(\u001b[0m\u001b[0mcore\u001b[0m\u001b[1;33m.\u001b[0m\u001b[0m_status_to_exception\u001b[0m\u001b[1;33m(\u001b[0m\u001b[0me\u001b[0m\u001b[1;33m.\u001b[0m\u001b[0mcode\u001b[0m\u001b[1;33m,\u001b[0m \u001b[0mmessage\u001b[0m\u001b[1;33m)\u001b[0m\u001b[1;33m,\u001b[0m \u001b[1;32mNone\u001b[0m\u001b[1;33m)\u001b[0m\u001b[1;33m\u001b[0m\u001b[1;33m\u001b[0m\u001b[0m\n\u001b[0m\u001b[0;32m   6654\u001b[0m   \u001b[1;31m# pylint: enable=protected-access\u001b[0m\u001b[1;33m\u001b[0m\u001b[1;33m\u001b[0m\u001b[1;33m\u001b[0m\u001b[0m\n\u001b[0;32m   6655\u001b[0m \u001b[1;33m\u001b[0m\u001b[0m\n",
      "\u001b[1;32m~\\Miniconda3\\envs\\tf\\lib\\site-packages\\six.py\u001b[0m in \u001b[0;36mraise_from\u001b[1;34m(value, from_value)\u001b[0m\n",
      "\u001b[1;31mResourceExhaustedError\u001b[0m: OOM when allocating tensor with shape[1,320,320,3] and type float on /job:localhost/replica:0/task:0/device:GPU:0 by allocator GPU_0_bfc [Op:Sub]"
     ]
    }
   ],
   "source": [
    "config = {\n",
    "    \"epochs\": 10,\n",
    "    \"learning_rate\": 0.001\n",
    "}\n",
    "\n",
    "trained_model = train_loop(config)"
   ]
  },
  {
   "cell_type": "code",
   "execution_count": null,
   "metadata": {},
   "outputs": [],
   "source": []
  }
 ],
 "metadata": {
  "kernelspec": {
   "name": "Python 3.7.9 64-bit ('tf': conda)",
   "display_name": "Python 3.7.9 64-bit ('tf': conda)",
   "metadata": {
    "interpreter": {
     "hash": "dbd4edd9f398c84cb16feeeb2405d326207e0a74e0aaa6e730cda3070d5db784"
    }
   }
  },
  "language_info": {
   "codemirror_mode": {
    "name": "ipython",
    "version": 3
   },
   "file_extension": ".py",
   "mimetype": "text/x-python",
   "name": "python",
   "nbconvert_exporter": "python",
   "pygments_lexer": "ipython3",
   "version": "3.7.9-final"
  }
 },
 "nbformat": 4,
 "nbformat_minor": 4
}